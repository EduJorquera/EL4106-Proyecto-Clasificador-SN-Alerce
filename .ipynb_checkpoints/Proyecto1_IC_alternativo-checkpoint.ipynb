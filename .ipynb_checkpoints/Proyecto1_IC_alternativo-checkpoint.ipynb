{
 "cells": [
  {
   "cell_type": "code",
   "execution_count": 21,
   "metadata": {
    "id": "i6hPj37DCfbw"
   },
   "outputs": [],
   "source": [
    "from functools import reduce\n",
    "import numpy as np\n",
    "import pandas as pd\n",
    "import matplotlib.pyplot as plt\n",
    "import turbofats"
   ]
  },
  {
   "cell_type": "markdown",
   "metadata": {
    "id": "fg6RO0nmLaWu"
   },
   "source": [
    "Crear dataset"
   ]
  },
  {
   "cell_type": "code",
   "execution_count": 4,
   "metadata": {},
   "outputs": [
    {
     "data": {
      "text/plain": [
       "'/home/edu/EL4106/Git Proyecto IC'"
      ]
     },
     "execution_count": 4,
     "metadata": {},
     "output_type": "execute_result"
    }
   ],
   "source": []
  },
  {
   "cell_type": "code",
   "execution_count": 8,
   "metadata": {
    "colab": {
     "base_uri": "https://localhost:8080/",
     "height": 419
    },
    "id": "TFFH3DtELEo6",
    "outputId": "f385dadb-dbb3-47f2-d91c-a8fd6bfdc9ff"
   },
   "outputs": [
    {
     "data": {
      "text/html": [
       "<div>\n",
       "<style scoped>\n",
       "    .dataframe tbody tr th:only-of-type {\n",
       "        vertical-align: middle;\n",
       "    }\n",
       "\n",
       "    .dataframe tbody tr th {\n",
       "        vertical-align: top;\n",
       "    }\n",
       "\n",
       "    .dataframe thead th {\n",
       "        text-align: right;\n",
       "    }\n",
       "</style>\n",
       "<table border=\"1\" class=\"dataframe\">\n",
       "  <thead>\n",
       "    <tr style=\"text-align: right;\">\n",
       "      <th></th>\n",
       "      <th>objectId</th>\n",
       "      <th>classALeRCE</th>\n",
       "      <th>mjd</th>\n",
       "      <th>fid</th>\n",
       "      <th>ra</th>\n",
       "      <th>dec</th>\n",
       "      <th>magpsf_corr</th>\n",
       "      <th>sigmapsf_corr</th>\n",
       "    </tr>\n",
       "  </thead>\n",
       "  <tbody>\n",
       "    <tr>\n",
       "      <th>0</th>\n",
       "      <td>ZTF18abshezu</td>\n",
       "      <td>SLSN</td>\n",
       "      <td>58432.242986</td>\n",
       "      <td>1.0</td>\n",
       "      <td>359.324774</td>\n",
       "      <td>-15.631484</td>\n",
       "      <td>17.822290</td>\n",
       "      <td>0.049547</td>\n",
       "    </tr>\n",
       "    <tr>\n",
       "      <th>1</th>\n",
       "      <td>ZTF18abshezu</td>\n",
       "      <td>SLSN</td>\n",
       "      <td>58382.252639</td>\n",
       "      <td>1.0</td>\n",
       "      <td>359.324737</td>\n",
       "      <td>-15.631466</td>\n",
       "      <td>18.340105</td>\n",
       "      <td>0.082330</td>\n",
       "    </tr>\n",
       "    <tr>\n",
       "      <th>2</th>\n",
       "      <td>ZTF18abshezu</td>\n",
       "      <td>SLSN</td>\n",
       "      <td>58390.314410</td>\n",
       "      <td>1.0</td>\n",
       "      <td>359.324751</td>\n",
       "      <td>-15.631509</td>\n",
       "      <td>18.198094</td>\n",
       "      <td>0.066106</td>\n",
       "    </tr>\n",
       "    <tr>\n",
       "      <th>3</th>\n",
       "      <td>ZTF18abshezu</td>\n",
       "      <td>SLSN</td>\n",
       "      <td>58469.148808</td>\n",
       "      <td>1.0</td>\n",
       "      <td>359.324809</td>\n",
       "      <td>-15.631543</td>\n",
       "      <td>18.490852</td>\n",
       "      <td>0.087028</td>\n",
       "    </tr>\n",
       "    <tr>\n",
       "      <th>4</th>\n",
       "      <td>ZTF18abshezu</td>\n",
       "      <td>SLSN</td>\n",
       "      <td>58423.240336</td>\n",
       "      <td>1.0</td>\n",
       "      <td>359.324775</td>\n",
       "      <td>-15.631466</td>\n",
       "      <td>17.806194</td>\n",
       "      <td>0.040923</td>\n",
       "    </tr>\n",
       "    <tr>\n",
       "      <th>...</th>\n",
       "      <td>...</td>\n",
       "      <td>...</td>\n",
       "      <td>...</td>\n",
       "      <td>...</td>\n",
       "      <td>...</td>\n",
       "      <td>...</td>\n",
       "      <td>...</td>\n",
       "      <td>...</td>\n",
       "    </tr>\n",
       "    <tr>\n",
       "      <th>33899</th>\n",
       "      <td>ZTF19abgnbjr</td>\n",
       "      <td>SNIbc</td>\n",
       "      <td>58695.482616</td>\n",
       "      <td>2.0</td>\n",
       "      <td>56.645178</td>\n",
       "      <td>25.115208</td>\n",
       "      <td>17.393979</td>\n",
       "      <td>100.000000</td>\n",
       "    </tr>\n",
       "    <tr>\n",
       "      <th>33900</th>\n",
       "      <td>ZTF19abgnbjr</td>\n",
       "      <td>SNIbc</td>\n",
       "      <td>58692.491921</td>\n",
       "      <td>2.0</td>\n",
       "      <td>56.645167</td>\n",
       "      <td>25.115181</td>\n",
       "      <td>17.395109</td>\n",
       "      <td>100.000000</td>\n",
       "    </tr>\n",
       "    <tr>\n",
       "      <th>33901</th>\n",
       "      <td>ZTF19abgnbjr</td>\n",
       "      <td>SNIbc</td>\n",
       "      <td>58704.486146</td>\n",
       "      <td>2.0</td>\n",
       "      <td>56.645161</td>\n",
       "      <td>25.115217</td>\n",
       "      <td>17.499520</td>\n",
       "      <td>100.000000</td>\n",
       "    </tr>\n",
       "    <tr>\n",
       "      <th>33902</th>\n",
       "      <td>ZTF19abgnbjr</td>\n",
       "      <td>SNIbc</td>\n",
       "      <td>58707.495868</td>\n",
       "      <td>2.0</td>\n",
       "      <td>56.645144</td>\n",
       "      <td>25.115176</td>\n",
       "      <td>17.489904</td>\n",
       "      <td>100.000000</td>\n",
       "    </tr>\n",
       "    <tr>\n",
       "      <th>33903</th>\n",
       "      <td>ZTF19abgnbjr</td>\n",
       "      <td>SNIbc</td>\n",
       "      <td>58701.486748</td>\n",
       "      <td>2.0</td>\n",
       "      <td>56.645199</td>\n",
       "      <td>25.115163</td>\n",
       "      <td>17.405022</td>\n",
       "      <td>100.000000</td>\n",
       "    </tr>\n",
       "  </tbody>\n",
       "</table>\n",
       "<p>33904 rows × 8 columns</p>\n",
       "</div>"
      ],
      "text/plain": [
       "           objectId classALeRCE           mjd  fid          ra        dec  \\\n",
       "0      ZTF18abshezu        SLSN  58432.242986  1.0  359.324774 -15.631484   \n",
       "1      ZTF18abshezu        SLSN  58382.252639  1.0  359.324737 -15.631466   \n",
       "2      ZTF18abshezu        SLSN  58390.314410  1.0  359.324751 -15.631509   \n",
       "3      ZTF18abshezu        SLSN  58469.148808  1.0  359.324809 -15.631543   \n",
       "4      ZTF18abshezu        SLSN  58423.240336  1.0  359.324775 -15.631466   \n",
       "...             ...         ...           ...  ...         ...        ...   \n",
       "33899  ZTF19abgnbjr       SNIbc  58695.482616  2.0   56.645178  25.115208   \n",
       "33900  ZTF19abgnbjr       SNIbc  58692.491921  2.0   56.645167  25.115181   \n",
       "33901  ZTF19abgnbjr       SNIbc  58704.486146  2.0   56.645161  25.115217   \n",
       "33902  ZTF19abgnbjr       SNIbc  58707.495868  2.0   56.645144  25.115176   \n",
       "33903  ZTF19abgnbjr       SNIbc  58701.486748  2.0   56.645199  25.115163   \n",
       "\n",
       "       magpsf_corr  sigmapsf_corr  \n",
       "0        17.822290       0.049547  \n",
       "1        18.340105       0.082330  \n",
       "2        18.198094       0.066106  \n",
       "3        18.490852       0.087028  \n",
       "4        17.806194       0.040923  \n",
       "...            ...            ...  \n",
       "33899    17.393979     100.000000  \n",
       "33900    17.395109     100.000000  \n",
       "33901    17.499520     100.000000  \n",
       "33902    17.489904     100.000000  \n",
       "33903    17.405022     100.000000  \n",
       "\n",
       "[33904 rows x 8 columns]"
      ]
     },
     "execution_count": 8,
     "metadata": {},
     "output_type": "execute_result"
    }
   ],
   "source": [
    "data = pd.read_csv('/home/edu/EL4106/Git Proyecto IC/SNe_more_5.csv')\n",
    "data"
   ]
  },
  {
   "cell_type": "markdown",
   "metadata": {
    "id": "V1sLQKeELfWL"
   },
   "source": [
    "Eliminar datos con mucho error"
   ]
  },
  {
   "cell_type": "code",
   "execution_count": 9,
   "metadata": {
    "colab": {
     "base_uri": "https://localhost:8080/",
     "height": 419
    },
    "id": "PPpNdffpLes-",
    "outputId": "5b9e9f22-7f5b-4d9a-d3ea-63904f28c874"
   },
   "outputs": [
    {
     "data": {
      "text/html": [
       "<div>\n",
       "<style scoped>\n",
       "    .dataframe tbody tr th:only-of-type {\n",
       "        vertical-align: middle;\n",
       "    }\n",
       "\n",
       "    .dataframe tbody tr th {\n",
       "        vertical-align: top;\n",
       "    }\n",
       "\n",
       "    .dataframe thead th {\n",
       "        text-align: right;\n",
       "    }\n",
       "</style>\n",
       "<table border=\"1\" class=\"dataframe\">\n",
       "  <thead>\n",
       "    <tr style=\"text-align: right;\">\n",
       "      <th></th>\n",
       "      <th>objectId</th>\n",
       "      <th>classALeRCE</th>\n",
       "      <th>mjd</th>\n",
       "      <th>fid</th>\n",
       "      <th>magpsf_corr</th>\n",
       "      <th>sigmapsf_corr</th>\n",
       "    </tr>\n",
       "  </thead>\n",
       "  <tbody>\n",
       "    <tr>\n",
       "      <th>0</th>\n",
       "      <td>ZTF18abshezu</td>\n",
       "      <td>SLSN</td>\n",
       "      <td>58432.242986</td>\n",
       "      <td>1.0</td>\n",
       "      <td>17.822290</td>\n",
       "      <td>0.049547</td>\n",
       "    </tr>\n",
       "    <tr>\n",
       "      <th>1</th>\n",
       "      <td>ZTF18abshezu</td>\n",
       "      <td>SLSN</td>\n",
       "      <td>58382.252639</td>\n",
       "      <td>1.0</td>\n",
       "      <td>18.340105</td>\n",
       "      <td>0.082330</td>\n",
       "    </tr>\n",
       "    <tr>\n",
       "      <th>2</th>\n",
       "      <td>ZTF18abshezu</td>\n",
       "      <td>SLSN</td>\n",
       "      <td>58390.314410</td>\n",
       "      <td>1.0</td>\n",
       "      <td>18.198094</td>\n",
       "      <td>0.066106</td>\n",
       "    </tr>\n",
       "    <tr>\n",
       "      <th>3</th>\n",
       "      <td>ZTF18abshezu</td>\n",
       "      <td>SLSN</td>\n",
       "      <td>58469.148808</td>\n",
       "      <td>1.0</td>\n",
       "      <td>18.490852</td>\n",
       "      <td>0.087028</td>\n",
       "    </tr>\n",
       "    <tr>\n",
       "      <th>4</th>\n",
       "      <td>ZTF18abshezu</td>\n",
       "      <td>SLSN</td>\n",
       "      <td>58423.240336</td>\n",
       "      <td>1.0</td>\n",
       "      <td>17.806194</td>\n",
       "      <td>0.040923</td>\n",
       "    </tr>\n",
       "    <tr>\n",
       "      <th>...</th>\n",
       "      <td>...</td>\n",
       "      <td>...</td>\n",
       "      <td>...</td>\n",
       "      <td>...</td>\n",
       "      <td>...</td>\n",
       "      <td>...</td>\n",
       "    </tr>\n",
       "    <tr>\n",
       "      <th>33888</th>\n",
       "      <td>ZTF20aaurexl</td>\n",
       "      <td>SNIbc</td>\n",
       "      <td>58986.455810</td>\n",
       "      <td>2.0</td>\n",
       "      <td>19.394915</td>\n",
       "      <td>0.112153</td>\n",
       "    </tr>\n",
       "    <tr>\n",
       "      <th>33889</th>\n",
       "      <td>ZTF19aanmzsb</td>\n",
       "      <td>SNIbc</td>\n",
       "      <td>58567.515706</td>\n",
       "      <td>1.0</td>\n",
       "      <td>18.599399</td>\n",
       "      <td>0.068463</td>\n",
       "    </tr>\n",
       "    <tr>\n",
       "      <th>33890</th>\n",
       "      <td>ZTF19aanmzsb</td>\n",
       "      <td>SNIbc</td>\n",
       "      <td>58567.481725</td>\n",
       "      <td>1.0</td>\n",
       "      <td>18.592801</td>\n",
       "      <td>0.051923</td>\n",
       "    </tr>\n",
       "    <tr>\n",
       "      <th>33891</th>\n",
       "      <td>ZTF19aanmzsb</td>\n",
       "      <td>SNIbc</td>\n",
       "      <td>58572.395498</td>\n",
       "      <td>1.0</td>\n",
       "      <td>18.672631</td>\n",
       "      <td>0.055491</td>\n",
       "    </tr>\n",
       "    <tr>\n",
       "      <th>33894</th>\n",
       "      <td>ZTF19aanmzsb</td>\n",
       "      <td>SNIbc</td>\n",
       "      <td>58560.413345</td>\n",
       "      <td>2.0</td>\n",
       "      <td>17.647290</td>\n",
       "      <td>0.017907</td>\n",
       "    </tr>\n",
       "  </tbody>\n",
       "</table>\n",
       "<p>25641 rows × 6 columns</p>\n",
       "</div>"
      ],
      "text/plain": [
       "           objectId classALeRCE           mjd  fid  magpsf_corr  sigmapsf_corr\n",
       "0      ZTF18abshezu        SLSN  58432.242986  1.0    17.822290       0.049547\n",
       "1      ZTF18abshezu        SLSN  58382.252639  1.0    18.340105       0.082330\n",
       "2      ZTF18abshezu        SLSN  58390.314410  1.0    18.198094       0.066106\n",
       "3      ZTF18abshezu        SLSN  58469.148808  1.0    18.490852       0.087028\n",
       "4      ZTF18abshezu        SLSN  58423.240336  1.0    17.806194       0.040923\n",
       "...             ...         ...           ...  ...          ...            ...\n",
       "33888  ZTF20aaurexl       SNIbc  58986.455810  2.0    19.394915       0.112153\n",
       "33889  ZTF19aanmzsb       SNIbc  58567.515706  1.0    18.599399       0.068463\n",
       "33890  ZTF19aanmzsb       SNIbc  58567.481725  1.0    18.592801       0.051923\n",
       "33891  ZTF19aanmzsb       SNIbc  58572.395498  1.0    18.672631       0.055491\n",
       "33894  ZTF19aanmzsb       SNIbc  58560.413345  2.0    17.647290       0.017907\n",
       "\n",
       "[25641 rows x 6 columns]"
      ]
     },
     "execution_count": 9,
     "metadata": {},
     "output_type": "execute_result"
    }
   ],
   "source": [
    "data.drop('ra', inplace=True, axis=1)\n",
    "data.drop('dec', inplace=True, axis=1)\n",
    "data2 = data[data['sigmapsf_corr']<1]\n",
    "data2"
   ]
  },
  {
   "cell_type": "markdown",
   "metadata": {
    "id": "pJt3wq-nMcsz"
   },
   "source": [
    "Eliminar duplicados"
   ]
  },
  {
   "cell_type": "code",
   "execution_count": 10,
   "metadata": {
    "colab": {
     "base_uri": "https://localhost:8080/",
     "height": 419
    },
    "id": "QgK7nVo4MyC7",
    "outputId": "b83dd504-6ee2-4884-d0e2-33a8a2da32e8"
   },
   "outputs": [
    {
     "data": {
      "text/html": [
       "<div>\n",
       "<style scoped>\n",
       "    .dataframe tbody tr th:only-of-type {\n",
       "        vertical-align: middle;\n",
       "    }\n",
       "\n",
       "    .dataframe tbody tr th {\n",
       "        vertical-align: top;\n",
       "    }\n",
       "\n",
       "    .dataframe thead th {\n",
       "        text-align: right;\n",
       "    }\n",
       "</style>\n",
       "<table border=\"1\" class=\"dataframe\">\n",
       "  <thead>\n",
       "    <tr style=\"text-align: right;\">\n",
       "      <th></th>\n",
       "      <th>objectId</th>\n",
       "      <th>classALeRCE</th>\n",
       "      <th>mjd</th>\n",
       "      <th>fid</th>\n",
       "      <th>magpsf_corr</th>\n",
       "      <th>sigmapsf_corr</th>\n",
       "    </tr>\n",
       "  </thead>\n",
       "  <tbody>\n",
       "    <tr>\n",
       "      <th>0</th>\n",
       "      <td>ZTF18abshezu</td>\n",
       "      <td>SLSN</td>\n",
       "      <td>58432.242986</td>\n",
       "      <td>1.0</td>\n",
       "      <td>17.822290</td>\n",
       "      <td>0.049547</td>\n",
       "    </tr>\n",
       "    <tr>\n",
       "      <th>1</th>\n",
       "      <td>ZTF18abshezu</td>\n",
       "      <td>SLSN</td>\n",
       "      <td>58382.252639</td>\n",
       "      <td>1.0</td>\n",
       "      <td>18.340105</td>\n",
       "      <td>0.082330</td>\n",
       "    </tr>\n",
       "    <tr>\n",
       "      <th>2</th>\n",
       "      <td>ZTF18abshezu</td>\n",
       "      <td>SLSN</td>\n",
       "      <td>58390.314410</td>\n",
       "      <td>1.0</td>\n",
       "      <td>18.198094</td>\n",
       "      <td>0.066106</td>\n",
       "    </tr>\n",
       "    <tr>\n",
       "      <th>3</th>\n",
       "      <td>ZTF18abshezu</td>\n",
       "      <td>SLSN</td>\n",
       "      <td>58469.148808</td>\n",
       "      <td>1.0</td>\n",
       "      <td>18.490852</td>\n",
       "      <td>0.087028</td>\n",
       "    </tr>\n",
       "    <tr>\n",
       "      <th>4</th>\n",
       "      <td>ZTF18abshezu</td>\n",
       "      <td>SLSN</td>\n",
       "      <td>58423.240336</td>\n",
       "      <td>1.0</td>\n",
       "      <td>17.806194</td>\n",
       "      <td>0.040923</td>\n",
       "    </tr>\n",
       "    <tr>\n",
       "      <th>...</th>\n",
       "      <td>...</td>\n",
       "      <td>...</td>\n",
       "      <td>...</td>\n",
       "      <td>...</td>\n",
       "      <td>...</td>\n",
       "      <td>...</td>\n",
       "    </tr>\n",
       "    <tr>\n",
       "      <th>33837</th>\n",
       "      <td>ZTF20aaurexl</td>\n",
       "      <td>SNIbc</td>\n",
       "      <td>58986.455810</td>\n",
       "      <td>2.0</td>\n",
       "      <td>19.394915</td>\n",
       "      <td>0.112153</td>\n",
       "    </tr>\n",
       "    <tr>\n",
       "      <th>33889</th>\n",
       "      <td>ZTF19aanmzsb</td>\n",
       "      <td>SNIbc</td>\n",
       "      <td>58567.515706</td>\n",
       "      <td>1.0</td>\n",
       "      <td>18.599399</td>\n",
       "      <td>0.068463</td>\n",
       "    </tr>\n",
       "    <tr>\n",
       "      <th>33890</th>\n",
       "      <td>ZTF19aanmzsb</td>\n",
       "      <td>SNIbc</td>\n",
       "      <td>58567.481725</td>\n",
       "      <td>1.0</td>\n",
       "      <td>18.592801</td>\n",
       "      <td>0.051923</td>\n",
       "    </tr>\n",
       "    <tr>\n",
       "      <th>33891</th>\n",
       "      <td>ZTF19aanmzsb</td>\n",
       "      <td>SNIbc</td>\n",
       "      <td>58572.395498</td>\n",
       "      <td>1.0</td>\n",
       "      <td>18.672631</td>\n",
       "      <td>0.055491</td>\n",
       "    </tr>\n",
       "    <tr>\n",
       "      <th>33894</th>\n",
       "      <td>ZTF19aanmzsb</td>\n",
       "      <td>SNIbc</td>\n",
       "      <td>58560.413345</td>\n",
       "      <td>2.0</td>\n",
       "      <td>17.647290</td>\n",
       "      <td>0.017907</td>\n",
       "    </tr>\n",
       "  </tbody>\n",
       "</table>\n",
       "<p>13424 rows × 6 columns</p>\n",
       "</div>"
      ],
      "text/plain": [
       "           objectId classALeRCE           mjd  fid  magpsf_corr  sigmapsf_corr\n",
       "0      ZTF18abshezu        SLSN  58432.242986  1.0    17.822290       0.049547\n",
       "1      ZTF18abshezu        SLSN  58382.252639  1.0    18.340105       0.082330\n",
       "2      ZTF18abshezu        SLSN  58390.314410  1.0    18.198094       0.066106\n",
       "3      ZTF18abshezu        SLSN  58469.148808  1.0    18.490852       0.087028\n",
       "4      ZTF18abshezu        SLSN  58423.240336  1.0    17.806194       0.040923\n",
       "...             ...         ...           ...  ...          ...            ...\n",
       "33837  ZTF20aaurexl       SNIbc  58986.455810  2.0    19.394915       0.112153\n",
       "33889  ZTF19aanmzsb       SNIbc  58567.515706  1.0    18.599399       0.068463\n",
       "33890  ZTF19aanmzsb       SNIbc  58567.481725  1.0    18.592801       0.051923\n",
       "33891  ZTF19aanmzsb       SNIbc  58572.395498  1.0    18.672631       0.055491\n",
       "33894  ZTF19aanmzsb       SNIbc  58560.413345  2.0    17.647290       0.017907\n",
       "\n",
       "[13424 rows x 6 columns]"
      ]
     },
     "execution_count": 10,
     "metadata": {},
     "output_type": "execute_result"
    }
   ],
   "source": [
    "data3=data2.drop_duplicates()\n",
    "data3"
   ]
  },
  {
   "cell_type": "markdown",
   "metadata": {
    "id": "GMXP5U2IbVI2"
   },
   "source": [
    "Cambiar infinitos por Nan, eliminar Nan's y sacar todas las supernovas con menos de 5 observaciones"
   ]
  },
  {
   "cell_type": "code",
   "execution_count": 42,
   "metadata": {
    "colab": {
     "base_uri": "https://localhost:8080/",
     "height": 419
    },
    "id": "iVwBjHPSM-Z7",
    "outputId": "2da22e1b-075f-4265-d72c-f889e5d8abe2"
   },
   "outputs": [
    {
     "data": {
      "text/html": [
       "<div>\n",
       "<style scoped>\n",
       "    .dataframe tbody tr th:only-of-type {\n",
       "        vertical-align: middle;\n",
       "    }\n",
       "\n",
       "    .dataframe tbody tr th {\n",
       "        vertical-align: top;\n",
       "    }\n",
       "\n",
       "    .dataframe thead th {\n",
       "        text-align: right;\n",
       "    }\n",
       "</style>\n",
       "<table border=\"1\" class=\"dataframe\">\n",
       "  <thead>\n",
       "    <tr style=\"text-align: right;\">\n",
       "      <th></th>\n",
       "      <th>objectId</th>\n",
       "      <th>classALeRCE</th>\n",
       "      <th>mjd</th>\n",
       "      <th>fid</th>\n",
       "      <th>magpsf_corr</th>\n",
       "      <th>sigmapsf_corr</th>\n",
       "    </tr>\n",
       "  </thead>\n",
       "  <tbody>\n",
       "    <tr>\n",
       "      <th>0</th>\n",
       "      <td>ZTF18abshezu</td>\n",
       "      <td>SLSN</td>\n",
       "      <td>58432.242986</td>\n",
       "      <td>1.0</td>\n",
       "      <td>17.822290</td>\n",
       "      <td>0.049547</td>\n",
       "    </tr>\n",
       "    <tr>\n",
       "      <th>1</th>\n",
       "      <td>ZTF18abshezu</td>\n",
       "      <td>SLSN</td>\n",
       "      <td>58382.252639</td>\n",
       "      <td>1.0</td>\n",
       "      <td>18.340105</td>\n",
       "      <td>0.082330</td>\n",
       "    </tr>\n",
       "    <tr>\n",
       "      <th>2</th>\n",
       "      <td>ZTF18abshezu</td>\n",
       "      <td>SLSN</td>\n",
       "      <td>58390.314410</td>\n",
       "      <td>1.0</td>\n",
       "      <td>18.198094</td>\n",
       "      <td>0.066106</td>\n",
       "    </tr>\n",
       "    <tr>\n",
       "      <th>3</th>\n",
       "      <td>ZTF18abshezu</td>\n",
       "      <td>SLSN</td>\n",
       "      <td>58469.148808</td>\n",
       "      <td>1.0</td>\n",
       "      <td>18.490852</td>\n",
       "      <td>0.087028</td>\n",
       "    </tr>\n",
       "    <tr>\n",
       "      <th>4</th>\n",
       "      <td>ZTF18abshezu</td>\n",
       "      <td>SLSN</td>\n",
       "      <td>58423.240336</td>\n",
       "      <td>1.0</td>\n",
       "      <td>17.806194</td>\n",
       "      <td>0.040923</td>\n",
       "    </tr>\n",
       "    <tr>\n",
       "      <th>...</th>\n",
       "      <td>...</td>\n",
       "      <td>...</td>\n",
       "      <td>...</td>\n",
       "      <td>...</td>\n",
       "      <td>...</td>\n",
       "      <td>...</td>\n",
       "    </tr>\n",
       "    <tr>\n",
       "      <th>33833</th>\n",
       "      <td>ZTF20aaurexl</td>\n",
       "      <td>SNIbc</td>\n",
       "      <td>58953.451424</td>\n",
       "      <td>2.0</td>\n",
       "      <td>18.627782</td>\n",
       "      <td>0.087630</td>\n",
       "    </tr>\n",
       "    <tr>\n",
       "      <th>33834</th>\n",
       "      <td>ZTF20aaurexl</td>\n",
       "      <td>SNIbc</td>\n",
       "      <td>59004.297801</td>\n",
       "      <td>2.0</td>\n",
       "      <td>19.703096</td>\n",
       "      <td>0.178204</td>\n",
       "    </tr>\n",
       "    <tr>\n",
       "      <th>33835</th>\n",
       "      <td>ZTF20aaurexl</td>\n",
       "      <td>SNIbc</td>\n",
       "      <td>58999.346852</td>\n",
       "      <td>2.0</td>\n",
       "      <td>19.737400</td>\n",
       "      <td>0.109826</td>\n",
       "    </tr>\n",
       "    <tr>\n",
       "      <th>33836</th>\n",
       "      <td>ZTF20aaurexl</td>\n",
       "      <td>SNIbc</td>\n",
       "      <td>59015.330567</td>\n",
       "      <td>2.0</td>\n",
       "      <td>20.251977</td>\n",
       "      <td>0.171113</td>\n",
       "    </tr>\n",
       "    <tr>\n",
       "      <th>33837</th>\n",
       "      <td>ZTF20aaurexl</td>\n",
       "      <td>SNIbc</td>\n",
       "      <td>58986.455810</td>\n",
       "      <td>2.0</td>\n",
       "      <td>19.394915</td>\n",
       "      <td>0.112153</td>\n",
       "    </tr>\n",
       "  </tbody>\n",
       "</table>\n",
       "<p>12875 rows × 6 columns</p>\n",
       "</div>"
      ],
      "text/plain": [
       "           objectId classALeRCE           mjd  fid  magpsf_corr  sigmapsf_corr\n",
       "0      ZTF18abshezu        SLSN  58432.242986  1.0    17.822290       0.049547\n",
       "1      ZTF18abshezu        SLSN  58382.252639  1.0    18.340105       0.082330\n",
       "2      ZTF18abshezu        SLSN  58390.314410  1.0    18.198094       0.066106\n",
       "3      ZTF18abshezu        SLSN  58469.148808  1.0    18.490852       0.087028\n",
       "4      ZTF18abshezu        SLSN  58423.240336  1.0    17.806194       0.040923\n",
       "...             ...         ...           ...  ...          ...            ...\n",
       "33833  ZTF20aaurexl       SNIbc  58953.451424  2.0    18.627782       0.087630\n",
       "33834  ZTF20aaurexl       SNIbc  59004.297801  2.0    19.703096       0.178204\n",
       "33835  ZTF20aaurexl       SNIbc  58999.346852  2.0    19.737400       0.109826\n",
       "33836  ZTF20aaurexl       SNIbc  59015.330567  2.0    20.251977       0.171113\n",
       "33837  ZTF20aaurexl       SNIbc  58986.455810  2.0    19.394915       0.112153\n",
       "\n",
       "[12875 rows x 6 columns]"
      ]
     },
     "execution_count": 42,
     "metadata": {},
     "output_type": "execute_result"
    }
   ],
   "source": [
    "data3.replace([np.inf, -np.inf], np.nan)\n",
    "data3.dropna()\n",
    "data3=data3.groupby(\"objectId\").filter(lambda x: len(x) > 5)\n",
    "data3"
   ]
  },
  {
   "cell_type": "code",
   "execution_count": 43,
   "metadata": {
    "colab": {
     "base_uri": "https://localhost:8080/"
    },
    "id": "n8uoqS-oPJuQ",
    "outputId": "81a452c4-d777-47d6-c543-52c71ce5f433"
   },
   "outputs": [
    {
     "data": {
      "text/plain": [
       "ZTF18acbwaxk    302\n",
       "ZTF19aaycrgf    278\n",
       "ZTF20aaaweke    183\n",
       "ZTF19acrdqej    138\n",
       "ZTF18aarwxum    131\n",
       "               ... \n",
       "ZTF18acchzkf      6\n",
       "ZTF18abokpvh      6\n",
       "ZTF19abkdeae      6\n",
       "ZTF19acblhxc      6\n",
       "ZTF20aanadof      6\n",
       "Name: objectId, Length: 519, dtype: int64"
      ]
     },
     "execution_count": 43,
     "metadata": {},
     "output_type": "execute_result"
    }
   ],
   "source": [
    "Id = data3['objectId']\n",
    "Frec_Id = Id.value_counts()\n",
    "N_objetos=len(Frec_Id)\n",
    "lista_Ids=Id.unique()\n",
    "len(lista_Ids)==N_objetos\n",
    "Frec_Id"
   ]
  },
  {
   "cell_type": "code",
   "execution_count": 44,
   "metadata": {
    "colab": {
     "base_uri": "https://localhost:8080/"
    },
    "id": "ertUq0gv6nRz",
    "outputId": "36d7daf8-f58e-4d93-b067-a971b98ae786"
   },
   "outputs": [
    {
     "data": {
      "text/plain": [
       "519"
      ]
     },
     "execution_count": 44,
     "metadata": {},
     "output_type": "execute_result"
    }
   ],
   "source": [
    "d = {}\n",
    "for id in lista_Ids:\n",
    "   d[id] = data3[data3['objectId']==id]\n",
    "len(d)"
   ]
  },
  {
   "cell_type": "code",
   "execution_count": 45,
   "metadata": {
    "colab": {
     "base_uri": "https://localhost:8080/",
     "height": 419
    },
    "id": "dnhjvJdpV8mn",
    "outputId": "570f67f0-0b5a-4f4a-eef2-c22ebe817759"
   },
   "outputs": [
    {
     "name": "stdout",
     "output_type": "stream",
     "text": [
      "445 Ids en filtro 1\n",
      "437 Ids en filtro 2\n"
     ]
    }
   ],
   "source": [
    "filtro1=data3[data3['fid']==1.0]\n",
    "filtro2=data3[data3['fid']==2.0]\n",
    "print(str(len(filtro1['objectId'].unique()))+ ' Ids en filtro 1' )\n",
    "print(str(len(filtro2['objectId'].unique()))+ ' Ids en filtro 2')"
   ]
  },
  {
   "cell_type": "code",
   "execution_count": 46,
   "metadata": {
    "id": "IQvZbRFXawRv"
   },
   "outputs": [],
   "source": [
    "d_filtro1 = {}\n",
    "for id in lista_Ids:\n",
    "   d_filtro1[id] = filtro1[filtro1['objectId']==id]\n",
    "\n",
    "d_filtro2 = {}\n",
    "for id in lista_Ids:\n",
    "   d_filtro2[id] = filtro2[filtro2['objectId']==id]   \n",
    "\n",
    "#d[lista_Ids[3]][['mjd','magpsf_corr']])\n",
    "#d_filtro1"
   ]
  },
  {
   "cell_type": "markdown",
   "metadata": {
    "id": "mIej-GKZazLf"
   },
   "source": [
    "usamos el filtro 1 para referencia"
   ]
  },
  {
   "cell_type": "code",
   "execution_count": 47,
   "metadata": {
    "colab": {
     "base_uri": "https://localhost:8080/"
    },
    "id": "DtWe8eZ7nLfP",
    "outputId": "0e22be66-e7d9-4463-957e-92941203b55d"
   },
   "outputs": [
    {
     "name": "stderr",
     "output_type": "stream",
     "text": [
      " /home/edu/anaconda3/envs/el4106/lib/python3.7/site-packages/ipykernel_launcher.py:11: SettingWithCopyWarning:\n",
      "A value is trying to be set on a copy of a slice from a DataFrame.\n",
      "Try using .loc[row_indexer,col_indexer] = value instead\n",
      "\n",
      "See the caveats in the documentation: https://pandas.pydata.org/pandas-docs/stable/user_guide/indexing.html#returning-a-view-versus-a-copy\n",
      " /home/edu/anaconda3/envs/el4106/lib/python3.7/site-packages/ipykernel_launcher.py:13: SettingWithCopyWarning:\n",
      "A value is trying to be set on a copy of a slice from a DataFrame.\n",
      "Try using .loc[row_indexer,col_indexer] = value instead\n",
      "\n",
      "See the caveats in the documentation: https://pandas.pydata.org/pandas-docs/stable/user_guide/indexing.html#returning-a-view-versus-a-copy\n"
     ]
    },
    {
     "data": {
      "text/plain": [
       "(445, 445)"
      ]
     },
     "execution_count": 47,
     "metadata": {},
     "output_type": "execute_result"
    }
   ],
   "source": [
    "d_tmax={}\n",
    "for id in lista_Ids:\n",
    "  if not d_filtro1[id].empty:\n",
    "    indice=(d_filtro1[id]['magpsf_corr']).idxmax()\n",
    "    tiempo_max=d_filtro1[id]['mjd'][indice]\n",
    "    d_tmax[id]=tiempo_max\n",
    "\n",
    "for id in lista_Ids:\n",
    "  if id in d_tmax:\n",
    "    if id in d_filtro1:\n",
    "      d_filtro1[id][\"mjd\"] -= d_tmax[id]\n",
    "    if id in d_filtro2:\n",
    "      d_filtro2[id][\"mjd\"] -= d_tmax[id]\n",
    "  else:\n",
    "    del d_filtro1[id]\n",
    "    del d_filtro2[id]\n",
    "\n",
    "(len(d_filtro1),len(d_filtro2))"
   ]
  },
  {
   "cell_type": "code",
   "execution_count": 48,
   "metadata": {
    "id": "8YzpwtoA8zQs",
    "scrolled": false
   },
   "outputs": [],
   "source": [
    "d_arrays_f1={}\n",
    "d_arrays_f2={}\n",
    "\n",
    "for id in lista_Ids:\n",
    "  if id in d_filtro1:\n",
    "      d_arrays_f1[id]=[ d_filtro1[id]['mjd'].to_numpy(), d_filtro1[id]['magpsf_corr'].to_numpy() , d_filtro1[id]['sigmapsf_corr'].to_numpy() ]\n",
    "      d_arrays_f2[id]=[ d_filtro2[id]['mjd'].to_numpy(), d_filtro2[id]['magpsf_corr'].to_numpy() , d_filtro2[id]['sigmapsf_corr'].to_numpy() ]\n",
    "\n",
    "#d_arrays\n",
    "#d_arrays_f1"
   ]
  },
  {
   "cell_type": "code",
   "execution_count": 39,
   "metadata": {},
   "outputs": [],
   "source": [
    "        f_list = [\n",
    "            'Amplitude', 'AndersonDarling', 'Autocor_length',\n",
    "            'Beyond1Std',\n",
    "            'Con', 'Eta_e',\n",
    "            'Gskew',\n",
    "            'MaxSlope', 'Mean', 'Meanvariance', 'MedianAbsDev',\n",
    "            'MedianBRP', 'PairSlopeTrend', 'PercentAmplitude', 'Q31',\n",
    "            'PeriodLS_v2',\n",
    "            'Period_fit_v2', 'Psi_CS_v2', 'Psi_eta_v2', 'Rcs',\n",
    "            'Skew', 'SmallKurtosis', 'Std',\n",
    "            'StetsonK', 'Harmonics',\n",
    "            'Pvar', 'ExcessVar',\n",
    "            'GP_DRW_sigma', 'GP_DRW_tau', 'SF_ML_amplitude', 'SF_ML_gamma',\n",
    "            'IAR_phi',\n",
    "            'LinearTrend'\n",
    "        ]"
   ]
  },
  {
   "cell_type": "code",
   "execution_count": 49,
   "metadata": {},
   "outputs": [
    {
     "name": "stderr",
     "output_type": "stream",
     "text": [
      " /home/edu/EL4106/Git Proyecto IC/turbofats/features/structure_function.py:119: RuntimeWarning:invalid value encountered in log10\n",
      " /home/edu/EL4106/Git Proyecto IC/turbofats/features/structure_function.py:120: RuntimeWarning:invalid value encountered in log10\n"
     ]
    },
    {
     "data": {
      "text/html": [
       "<div>\n",
       "<style scoped>\n",
       "    .dataframe tbody tr th:only-of-type {\n",
       "        vertical-align: middle;\n",
       "    }\n",
       "\n",
       "    .dataframe tbody tr th {\n",
       "        vertical-align: top;\n",
       "    }\n",
       "\n",
       "    .dataframe thead th {\n",
       "        text-align: right;\n",
       "    }\n",
       "</style>\n",
       "<table border=\"1\" class=\"dataframe\">\n",
       "  <thead>\n",
       "    <tr style=\"text-align: right;\">\n",
       "      <th></th>\n",
       "      <th>Amplitude</th>\n",
       "      <th>AndersonDarling</th>\n",
       "      <th>Autocor_length</th>\n",
       "      <th>Beyond1Std</th>\n",
       "      <th>Con</th>\n",
       "      <th>Eta_e</th>\n",
       "      <th>Gskew</th>\n",
       "      <th>MaxSlope</th>\n",
       "      <th>Mean</th>\n",
       "      <th>Meanvariance</th>\n",
       "      <th>...</th>\n",
       "      <th>Harmonics_phase_7</th>\n",
       "      <th>Harmonics_mse</th>\n",
       "      <th>Pvar</th>\n",
       "      <th>ExcessVar</th>\n",
       "      <th>GP_DRW_sigma</th>\n",
       "      <th>GP_DRW_tau</th>\n",
       "      <th>SF_ML_amplitude</th>\n",
       "      <th>SF_ML_gamma</th>\n",
       "      <th>IAR_phi</th>\n",
       "      <th>LinearTrend</th>\n",
       "    </tr>\n",
       "    <tr>\n",
       "      <th>oid</th>\n",
       "      <th></th>\n",
       "      <th></th>\n",
       "      <th></th>\n",
       "      <th></th>\n",
       "      <th></th>\n",
       "      <th></th>\n",
       "      <th></th>\n",
       "      <th></th>\n",
       "      <th></th>\n",
       "      <th></th>\n",
       "      <th></th>\n",
       "      <th></th>\n",
       "      <th></th>\n",
       "      <th></th>\n",
       "      <th></th>\n",
       "      <th></th>\n",
       "      <th></th>\n",
       "      <th></th>\n",
       "      <th></th>\n",
       "      <th></th>\n",
       "      <th></th>\n",
       "    </tr>\n",
       "  </thead>\n",
       "  <tbody>\n",
       "    <tr>\n",
       "      <th>ZTF19aaycrgf</th>\n",
       "      <td>9.021157</td>\n",
       "      <td>0.24095</td>\n",
       "      <td>2.0</td>\n",
       "      <td>0.5</td>\n",
       "      <td>0.0</td>\n",
       "      <td>0.833019</td>\n",
       "      <td>2.843507</td>\n",
       "      <td>684.819988</td>\n",
       "      <td>-9.486667</td>\n",
       "      <td>-0.667999</td>\n",
       "      <td>...</td>\n",
       "      <td>4.000428</td>\n",
       "      <td>7.929747e-29</td>\n",
       "      <td>1.0</td>\n",
       "      <td>0.446063</td>\n",
       "      <td>40.132033</td>\n",
       "      <td>0.0294</td>\n",
       "      <td>-0.5</td>\n",
       "      <td>-0.5</td>\n",
       "      <td>4.338728e-13</td>\n",
       "      <td>17.916313</td>\n",
       "    </tr>\n",
       "  </tbody>\n",
       "</table>\n",
       "<p>1 rows × 46 columns</p>\n",
       "</div>"
      ],
      "text/plain": [
       "              Amplitude  AndersonDarling  Autocor_length  Beyond1Std  Con  \\\n",
       "oid                                                                         \n",
       "ZTF19aaycrgf   9.021157          0.24095             2.0         0.5  0.0   \n",
       "\n",
       "                 Eta_e     Gskew    MaxSlope      Mean  Meanvariance  ...  \\\n",
       "oid                                                                   ...   \n",
       "ZTF19aaycrgf  0.833019  2.843507  684.819988 -9.486667     -0.667999  ...   \n",
       "\n",
       "              Harmonics_phase_7  Harmonics_mse  Pvar  ExcessVar  GP_DRW_sigma  \\\n",
       "oid                                                                             \n",
       "ZTF19aaycrgf           4.000428   7.929747e-29   1.0   0.446063     40.132033   \n",
       "\n",
       "              GP_DRW_tau  SF_ML_amplitude  SF_ML_gamma       IAR_phi  \\\n",
       "oid                                                                    \n",
       "ZTF19aaycrgf      0.0294             -0.5         -0.5  4.338728e-13   \n",
       "\n",
       "              LinearTrend  \n",
       "oid                        \n",
       "ZTF19aaycrgf    17.916313  \n",
       "\n",
       "[1 rows x 46 columns]"
      ]
     },
     "execution_count": 49,
     "metadata": {},
     "output_type": "execute_result"
    }
   ],
   "source": [
    "feature_space = turbofats.FeatureSpace(f_list)\n",
    "\n",
    "[ mag , time , error ]    = d_arrays_f1['ZTF18abokpvh']\n",
    "[ mag2 , time2 , error2 ] = d_arrays_f2['ZTF19abqyoxt']\n",
    "\n",
    "detections_data = np.stack(\n",
    "    [\n",
    "        time.flatten(),\n",
    "        mag.flatten(),\n",
    "        error\n",
    "    ],\n",
    "    axis=-1\n",
    ")\n",
    "detections = pd.DataFrame(\n",
    "    data=detections_data,\n",
    "    columns=['mjd', 'magpsf_corr', 'sigmapsf_corr'],\n",
    "    index=['ZTF19aaycrgf'] * len(detections_data)\n",
    ")\n",
    "feature_values = feature_space.calculate_features(detections)\n",
    "feature_values\n",
    "\n",
    "#d_arrays_f1['ZTF19aaycrgf']"
   ]
  },
  {
   "cell_type": "code",
   "execution_count": 19,
   "metadata": {
    "colab": {
     "base_uri": "https://localhost:8080/",
     "height": 231
    },
    "id": "Y-D3Q-0DwU2v",
    "outputId": "13fe6dad-7ed4-4f00-a832-93f396d81f0f"
   },
   "outputs": [
    {
     "ename": "NameError",
     "evalue": "name 'FATS' is not defined",
     "output_type": "error",
     "traceback": [
      "\u001b[0;31m---------------------------------------------------------------------------\u001b[0m",
      "\u001b[0;31mNameError\u001b[0m                                 Traceback (most recent call last)",
      "\u001b[0;32m<ipython-input-19-92be094dc3d5>\u001b[0m in \u001b[0;36m<module>\u001b[0;34m\u001b[0m\n\u001b[1;32m      4\u001b[0m \u001b[0;34m\u001b[0m\u001b[0m\n\u001b[1;32m      5\u001b[0m \u001b[0;31m# Preprocess the data\u001b[0m\u001b[0;34m\u001b[0m\u001b[0;34m\u001b[0m\u001b[0;34m\u001b[0m\u001b[0m\n\u001b[0;32m----> 6\u001b[0;31m \u001b[0mpreprocessed_data\u001b[0m \u001b[0;34m=\u001b[0m \u001b[0mFATS\u001b[0m\u001b[0;34m.\u001b[0m\u001b[0mPreprocess_LC\u001b[0m\u001b[0;34m(\u001b[0m \u001b[0mmag\u001b[0m \u001b[0;34m,\u001b[0m\u001b[0mtime\u001b[0m \u001b[0;34m,\u001b[0m \u001b[0merror\u001b[0m \u001b[0;34m)\u001b[0m\u001b[0;34m\u001b[0m\u001b[0;34m\u001b[0m\u001b[0m\n\u001b[0m\u001b[1;32m      7\u001b[0m \u001b[0;34m[\u001b[0m \u001b[0mmag\u001b[0m \u001b[0;34m,\u001b[0m \u001b[0mtime\u001b[0m \u001b[0;34m,\u001b[0m \u001b[0merror\u001b[0m \u001b[0;34m]\u001b[0m \u001b[0;34m=\u001b[0m \u001b[0mpreprocessed_data\u001b[0m\u001b[0;34m.\u001b[0m\u001b[0mPreprocess\u001b[0m\u001b[0;34m(\u001b[0m\u001b[0;34m)\u001b[0m\u001b[0;34m\u001b[0m\u001b[0;34m\u001b[0m\u001b[0m\n\u001b[1;32m      8\u001b[0m \u001b[0mpreprocessed_data\u001b[0m \u001b[0;34m=\u001b[0m \u001b[0mFATS\u001b[0m\u001b[0;34m.\u001b[0m\u001b[0mPreprocess_LC\u001b[0m\u001b[0;34m(\u001b[0m \u001b[0mmag2\u001b[0m\u001b[0;34m,\u001b[0m \u001b[0mtime2\u001b[0m \u001b[0;34m,\u001b[0m \u001b[0merror2\u001b[0m \u001b[0;34m)\u001b[0m\u001b[0;34m\u001b[0m\u001b[0;34m\u001b[0m\u001b[0m\n",
      "\u001b[0;31mNameError\u001b[0m: name 'FATS' is not defined"
     ]
    }
   ],
   "source": [
    "# Import the data\n",
    "[ mag , time , error ] = d_arrays_f1['ZTF19abqyoxt']\n",
    "[ mag2 , time2 , error2 ] = d_arrays_f2['ZTF19abqyoxt']\n",
    "\n",
    "# Preprocess the data\n",
    "preprocessed_data = FATS.Preprocess_LC( mag ,time , error )\n",
    "[ mag , time , error ] = preprocessed_data.Preprocess()\n",
    "preprocessed_data = FATS.Preprocess_LC( mag2, time2 , error2 )\n",
    "[ mag2 , time2 , error2 ] = preprocessed_data.Preprocess()\n",
    "\n",
    "# Synchronize the data\n",
    "if len ( mag ) != len ( mag2 ) :\n",
    "  [ aligned_mag , aligned_mag2 ,aligned_time , aligned_error , aligned_error2 ] = FATS.Align_LC(time,time2,mag,mag2,error,error2)\n",
    "lc = np.array ([ mag , time , error , mag2 ,aligned_mag , aligned_mag2 , aligned_time, aligned_error , aligned_error2 ])\n"
   ]
  },
  {
   "cell_type": "code",
   "execution_count": null,
   "metadata": {
    "colab": {
     "base_uri": "https://localhost:8080/"
    },
    "id": "JAAyU2TgwvRC",
    "outputId": "3915564f-8a88-4bab-bf91-e6b39a23f927"
   },
   "outputs": [
    {
     "data": {
      "text/plain": [
       "[array([-17.9030093, -78.9849537, -87.9466551, -60.9846991,   0.       ]),\n",
       " array([19.10719626, 18.45441475, 18.33152785, 18.77406456, 19.2266381 ]),\n",
       " array([0.06034257, 0.05579109, 0.04965624, 0.0741822 , 0.07986148])]"
      ]
     },
     "execution_count": 204,
     "metadata": {
      "tags": []
     },
     "output_type": "execute_result"
    }
   ],
   "source": [
    "d_arrays_f1['ZTF19abqyoxt']"
   ]
  },
  {
   "cell_type": "code",
   "execution_count": null,
   "metadata": {
    "colab": {
     "base_uri": "https://localhost:8080/",
     "height": 296
    },
    "id": "CEfnUeL4AjZt",
    "outputId": "916a88a0-b3c0-495d-eec9-adc790f18e3c"
   },
   "outputs": [
    {
     "data": {
      "text/plain": [
       "Text(0, 0.5, 'magnitud')"
      ]
     },
     "execution_count": 202,
     "metadata": {
      "tags": []
     },
     "output_type": "execute_result"
    },
    {
     "data": {
      "image/png": "[encoded data removed]",
      "text/plain": [
       "<Figure size 432x288 with 1 Axes>"
      ]
     },
     "metadata": {
      "needs_background": "light",
      "tags": []
     },
     "output_type": "display_data"
    }
   ],
   "source": [
    "ID='ZTF19abqyoxt'    \n",
    "t1=d_arrays_f1[ID][0]\n",
    "mag1=d_arrays_f1[ID][1]\n",
    "t2=d_arrays_f2[ID][0]\n",
    "mag2=d_arrays_f2[ID][1]\n",
    "plt.scatter(t2,mag2)\n",
    "plt.scatter(t1,mag1)\n",
    "plt.xlabel('tiempo')\n",
    "plt.ylabel('magnitud')"
   ]
  },
  {
   "cell_type": "code",
   "execution_count": null,
   "metadata": {
    "colab": {
     "base_uri": "https://localhost:8080/"
    },
    "id": "kgb5D7xMpUbp",
    "outputId": "b85a66ec-ead6-4240-9d90-798c00a50153"
   },
   "outputs": [
    {
     "data": {
      "text/plain": [
       "SNIa     584\n",
       "SNII     129\n",
       "SNIbc     42\n",
       "SNIIn     19\n",
       "SLSN      14\n",
       "SNIIb      8\n",
       "Name: classALeRCE, dtype: int64"
      ]
     },
     "execution_count": 197,
     "metadata": {
      "tags": []
     },
     "output_type": "execute_result"
    }
   ],
   "source": [
    "dcount=dcount.drop_duplicates(subset =\"objectId\") \n",
    "tipos_SN=dcount['classALeRCE']\n",
    "tipos_SN.value_counts()"
   ]
  }
 ],
 "metadata": {
  "colab": {
   "collapsed_sections": [],
   "name": "Proyecto1_IC_alternativo.ipynb",
   "provenance": []
  },
  "kernelspec": {
   "display_name": "Python 3",
   "language": "python",
   "name": "python3"
  },
  "language_info": {
   "codemirror_mode": {
    "name": "ipython",
    "version": 3
   },
   "file_extension": ".py",
   "mimetype": "text/x-python",
   "name": "python",
   "nbconvert_exporter": "python",
   "pygments_lexer": "ipython3",
   "version": "3.7.9"
  }
 },
 "nbformat": 4,
 "nbformat_minor": 1
}
